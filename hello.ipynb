{
 "cells": [
  {
   "cell_type": "markdown",
   "id": "suited-baptist",
   "metadata": {},
   "source": [
    "# 实验一 使用Opencv库进行图像处理\n",
    "## 一 实现目的\n",
    "1．熟悉opencv库的导入\n",
    "2．学会使用opencv的库实现基本功能\n",
    "## 二 实验内容\n",
    "导入opencv库，学会用opencv直接读取图片，读取视频，亦或是使用摄像头获取图片或者是视频，并学会其他一些基本操作。\n",
    "## 三 实验原理\n",
    "OpenCV是一个开源的跨平台计算机视觉库，可以运行在Linux、Windows、Android和OS操作系统上。它是由C++语言编写，目前主要的使用接口有C++、Python和MATLAB，这些语言的接口函数都可以通过在线文档获得，我们在本教材中介绍的是Python接口。  \n",
    "OpenCV所有版本的英文教材都可以通过opencv的官网获得https://opencv.org。 我们会在后面的实验中介绍其中最有代表性，应用最广泛的一些功能和例子，以求让学生在最短的时间内对opencv有一个大概的了解。至于一些细节学生可以在以后真正使用时慢慢摸索和研究。  \n",
    "其实在我们的生活中，每天见到的二维码的识别其实也是可以使用opencv的库来进行二维码的扫描和解码的，如果有兴趣可以通过GitHub获得一些源码，利用python的环境和OpenCV的库去实现二维码的解码。  \n",
    "本次试验介绍三个opencv的入门功能：图片的读取、处理和保存；视频的读取、处理和保存以及摄像头的使用。这三个功能是所有图像处理的第一步，掌握了他们，学生算是对opencv有了一个初步的概念和理解，后续一些复杂的操作会在它们的基础上慢慢展开。"
   ]
  },
  {
   "cell_type": "markdown",
   "id": "acquired-geology",
   "metadata": {},
   "source": [
    "## 四 实验步骤和参考程序\n",
    "### 1、图片的读取、处理和保存\n",
    "在上一章内容中我们提到，python程序可以调用模块（或者称为“标准库”）中的函数。在调用前首先要用import指令导入库。"
   ]
  },
  {
   "cell_type": "code",
   "execution_count": 3,
   "id": "quantitative-headset",
   "metadata": {},
   "outputs": [],
   "source": [
    "import cv2\n",
    "import numpy as np"
   ]
  },
  {
   "cell_type": "markdown",
   "id": "established-jungle",
   "metadata": {},
   "source": [
    "这里首先导入opencv库cv2、numpy，并将numpy重新命名为np。"
   ]
  },
  {
   "cell_type": "code",
   "execution_count": 8,
   "id": "fixed-customer",
   "metadata": {},
   "outputs": [],
   "source": [
    "image_color=cv2.imread('assets/messi.jpg')\n",
    "image_gray=cv2.imread('assets/messi.jpg',0)"
   ]
  },
  {
   "cell_type": "markdown",
   "id": "certified-biology",
   "metadata": {},
   "source": [
    "上面两行代码调用了cv2库中的imread()函数，读入了名为‘messi.jpg’的图片。Imread()包括两个参数，前者指定图片名称，后者指定所读取的图片类型，共三种：\n",
    "+ 填入大于0的整数，返回彩色原图。\n",
    "+ 填入0，返回一个灰度图。\n",
    "+ 填小于0的整数，返回一个带alpha通道的彩色原图。\n",
    "不填写则默认为大于0，返回彩色原图。因此上例中，一个是返回了彩色原图赋给image_color，另一个填写0，返回灰度图赋给image_gray。\n"
   ]
  },
  {
   "cell_type": "code",
   "execution_count": 9,
   "id": "urban-melbourne",
   "metadata": {},
   "outputs": [
    {
     "name": "stdout",
     "output_type": "stream",
     "text": [
      "(291, 437, 3)\n",
      "(291, 437)\n"
     ]
    }
   ],
   "source": [
    "print(np.shape(image_color))\n",
    "print(np.shape(image_gray))"
   ]
  },
  {
   "cell_type": "markdown",
   "id": "limited-dinner",
   "metadata": {},
   "source": [
    "这里调用了numpy库的shape函数，即获取图片的数组结构，并用print函数打印出来。  \n",
    "可以看到打印结果中，灰度图片将彩色图片的RGB三维空间转化为了二维灰度空间。"
   ]
  },
  {
   "cell_type": "code",
   "execution_count": 19,
   "id": "gothic-polls",
   "metadata": {},
   "outputs": [],
   "source": [
    "cv2.imshow('img1',image_color)\n",
    "cv2.imshow('img2',image_gray)\n",
    "cv2.waitKey(0)\n",
    "cv2.destroyAllWindows()"
   ]
  },
  {
   "cell_type": "markdown",
   "id": "adequate-register",
   "metadata": {},
   "source": [
    "上图是调用了cv2库中的imshow函数，展示两张图片，并重新命名为为“img1”和“img2”。cv2.waitKey(0)保证了展示图片一直存在而不是一闪而过。显示结果如下：\n",
    "![alt 示例](assets/2.1-1.png)  "
   ]
  },
  {
   "cell_type": "markdown",
   "id": "owned-peoples",
   "metadata": {},
   "source": [
    "最后用cv2中的imwirte函数将灰度图片保存到根目录下："
   ]
  },
  {
   "cell_type": "code",
   "execution_count": 21,
   "id": "cognitive-milan",
   "metadata": {},
   "outputs": [
    {
     "data": {
      "text/plain": [
       "True"
      ]
     },
     "execution_count": 21,
     "metadata": {},
     "output_type": "execute_result"
    }
   ],
   "source": [
    "cv2.imwrite('messi_gray.jpg',image_gray)"
   ]
  },
  {
   "cell_type": "markdown",
   "id": "laughing-acquisition",
   "metadata": {},
   "source": [
    "完整的代码如下:"
   ]
  },
  {
   "cell_type": "code",
   "execution_count": 23,
   "id": "thick-festival",
   "metadata": {},
   "outputs": [
    {
     "name": "stdout",
     "output_type": "stream",
     "text": [
      "(291, 437, 3)\n",
      "(291, 437)\n"
     ]
    },
    {
     "data": {
      "text/plain": [
       "True"
      ]
     },
     "execution_count": 23,
     "metadata": {},
     "output_type": "execute_result"
    }
   ],
   "source": [
    "import cv2\n",
    "import numpy as np\n",
    "image_color=cv2.imread('assets/messi.jpg')\n",
    "image_gray=cv2.imread('assets/messi.jpg',0)\n",
    "print(np.shape(image_color))\n",
    "print(np.shape(image_gray))\n",
    "cv2.imshow('img1',image_color)\n",
    "cv2.imshow('img2',image_gray)\n",
    "cv2.waitKey(0)\n",
    "cv2.destroyAllWindows()\n",
    "cv2.imwrite('messi_gray.jpg',image_gray)"
   ]
  },
  {
   "cell_type": "markdown",
   "id": "reduced-harbor",
   "metadata": {},
   "source": [
    "### 2、使用摄像头捕捉图片并打印"
   ]
  },
  {
   "cell_type": "code",
   "execution_count": 2,
   "id": "fifteen-taste",
   "metadata": {},
   "outputs": [],
   "source": [
    "import cv2\n",
    "cap=cv2.VideoCapture(0)"
   ]
  },
  {
   "cell_type": "markdown",
   "id": "norwegian-worcester",
   "metadata": {},
   "source": [
    "首先导入opencv库，并调用库中的VideoCapture类，参数为0时为打开摄像头，定义为cap。"
   ]
  },
  {
   "cell_type": "code",
   "execution_count": null,
   "id": "interior-disaster",
   "metadata": {},
   "outputs": [],
   "source": [
    "while(True):\n",
    "    ret,frame=cap.read()\n",
    "    cv2.imshow('frame',frame)\n",
    "    if(cv2.waitKey(1)&0xFF==ord('q')):\n",
    "        break"
   ]
  },
  {
   "cell_type": "markdown",
   "id": "graphic-continent",
   "metadata": {},
   "source": [
    "上图中使用了一个常用的循环结构：while(Ture){…if(…):break}表示当if后的条件发生时，才执行break跳出循环。调用VideoCapture类中的read()函数时会返回两个参数，一个是ret，值为True或False，代表有没有读到图片，另一个frame是当前截取一帧的图片。调用cv库中的展示函数，将frame展示出来后，如果从键盘输入了‘q’，则执行break。"
   ]
  },
  {
   "cell_type": "code",
   "execution_count": 4,
   "id": "imported-assurance",
   "metadata": {},
   "outputs": [],
   "source": [
    "cap.release()\n",
    "cv2.destroyAllWindows()"
   ]
  },
  {
   "cell_type": "markdown",
   "id": "rolled-daisy",
   "metadata": {},
   "source": [
    "最后释放摄像头并关闭所有窗口。完整的代码如下："
   ]
  },
  {
   "cell_type": "code",
   "execution_count": null,
   "id": "spanish-inside",
   "metadata": {},
   "outputs": [],
   "source": [
    "import cv2\n",
    "cap=cv2.VideoCapture(0)\n",
    "while(True):\n",
    "    ret,frame=cap.read()\n",
    "    cv2.imshow('frame',frame)\n",
    "    if(cv2.waitKey(1)&0xFF==ord('q')):\n",
    "        break\n",
    "cap.release()\n",
    "cv2.destroyAllWindows()"
   ]
  },
  {
   "cell_type": "markdown",
   "id": "abstract-western",
   "metadata": {},
   "source": [
    "### 3、视频的读取处理和保存\n",
    "类似于上例，首先导入库并调用VideoCapture，输入参数为’.avi’表示打开视频。调用isOpened()函数，当返回值为ture时，执行while，用read函数读取图像，并调用cvtColor()函数，将每一帧转化为灰度图像（同理可以完成其他转换）。最后按‘q’键退出，并释放摄像头，关闭所有窗口。完整的代码如下：\n"
   ]
  },
  {
   "cell_type": "code",
   "execution_count": 8,
   "id": "careful-purple",
   "metadata": {},
   "outputs": [],
   "source": [
    "import cv2\n",
    "cap=cv2.VideoCapture('dog.avi')\n",
    "while(cap.isOpened()):\n",
    "    ret,frame=cap.read()\n",
    "    gray=cv2.cvtColor(frame,cv2.COLOR_BGR2GRAY)\n",
    "    cv2.imshow('frame',frame)\n",
    "    if(cv2.waitKey(1)&0xFF==ord('q')):\n",
    "        break\n",
    "cap.release()\n",
    "cv2.destroyAllWindows()        "
   ]
  },
  {
   "cell_type": "markdown",
   "id": "dental-poverty",
   "metadata": {},
   "source": [
    "## 五 思考题\n",
    "1、读入图片和保存图片分别使用的函数是哪一个？  \n",
    "2、打开摄像头使用的是哪一个函数，一般来说，参数0代表电脑自带的摄像头，如果想要打开外部的摄像头呢，这个参数又要怎么设置？  \n",
    "3、请使用getRotationMatrix2D(C,A,N)函数，实现图片的旋转（提示：第一个参数C表示旋转中心，第二个参数A表示旋转角度，第三个参数N表示缩放比例即旋转后的图片的大小）。"
   ]
  }
 ],
 "metadata": {
  "kernelspec": {
   "display_name": "Python 3",
   "language": "python",
   "name": "python3"
  },
  "language_info": {
   "codemirror_mode": {
    "name": "ipython",
    "version": 3
   },
   "file_extension": ".py",
   "mimetype": "text/x-python",
   "name": "python",
   "nbconvert_exporter": "python",
   "pygments_lexer": "ipython3",
   "version": "3.9.1"
  }
 },
 "nbformat": 4,
 "nbformat_minor": 5
}
